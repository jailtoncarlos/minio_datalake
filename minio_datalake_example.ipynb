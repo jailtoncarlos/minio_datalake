{
 "cells": [
  {
   "cell_type": "markdown",
   "id": "f63fa5bc-3202-4326-a73f-3535c10c71e7",
   "metadata": {},
   "source": [
    "# Configurar o Notebook"
   ]
  },
  {
   "cell_type": "code",
   "execution_count": 2,
   "id": "00365e7a-2794-4652-ad46-30733105621e",
   "metadata": {},
   "outputs": [
    {
     "ename": "ModuleNotFoundError",
     "evalue": "No module named 'minio_datalake'",
     "output_type": "error",
     "traceback": [
      "\u001b[0;31m---------------------------------------------------------------------------\u001b[0m",
      "\u001b[0;31mModuleNotFoundError\u001b[0m                       Traceback (most recent call last)",
      "Cell \u001b[0;32mIn[2], line 3\u001b[0m\n\u001b[1;32m      1\u001b[0m \u001b[38;5;66;03m# Importações necessárias\u001b[39;00m\n\u001b[1;32m      2\u001b[0m \u001b[38;5;28;01mimport\u001b[39;00m \u001b[38;5;21;01mos\u001b[39;00m\n\u001b[0;32m----> 3\u001b[0m \u001b[38;5;28;01mfrom\u001b[39;00m \u001b[38;5;21;01mminio_datalake\u001b[39;00m\u001b[38;5;21;01m.\u001b[39;00m\u001b[38;5;21;01mdatalake\u001b[39;00m \u001b[38;5;28;01mimport\u001b[39;00m MinIODatalake\n\u001b[1;32m      4\u001b[0m \u001b[38;5;28;01mimport\u001b[39;00m \u001b[38;5;21;01mminio_datalake\u001b[39;00m\u001b[38;5;21;01m.\u001b[39;00m\u001b[38;5;21;01msettings\u001b[39;00m \u001b[38;5;28;01mas\u001b[39;00m \u001b[38;5;21;01msettings\u001b[39;00m\n\u001b[1;32m      6\u001b[0m \u001b[38;5;66;03m# Verifique se as variáveis de ambiente estão configuradas corretamente\u001b[39;00m\n",
      "\u001b[0;31mModuleNotFoundError\u001b[0m: No module named 'minio_datalake'"
     ]
    }
   ],
   "source": [
    "# Importações necessárias\n",
    "import os\n",
    "from minio_datalake.datalake import MinIODatalake\n",
    "import minio_datalake.settings as settings\n",
    "\n",
    "# Verifique se as variáveis de ambiente estão configuradas corretamente\n",
    "print(f\"MINIO_URL: {settings.MINIO_URL}\")\n",
    "print(f\"ACCESS_KEY: {settings.ACCESS_KEY}\")\n",
    "print(f\"SECRET_KEY: {settings.SECRET_KEY}\")\n",
    "print(f\"RAW_BUCKET: {settings.RAW_BUCKET}\")\n",
    "print(f\"STAGE_BUCKET: {settings.STAGE_BUCKET}\")\n"
   ]
  },
  {
   "cell_type": "markdown",
   "id": "ea4c9c0a-829e-4906-b107-de03b74b16a4",
   "metadata": {},
   "source": [
    "#  Inicializar a classe MinIODatalake"
   ]
  },
  {
   "cell_type": "code",
   "execution_count": null,
   "id": "f8e31fda-63d1-4593-8f32-3a198f55f661",
   "metadata": {},
   "outputs": [],
   "source": [
    "datalake = MinIODatalake(\n",
    "    endpoint=settings.MINIO_URL,\n",
    "    access_key=settings.ACCESS_KEY,\n",
    "    secret_key=settings.SECRET_KEY\n",
    ")"
   ]
  },
  {
   "cell_type": "markdown",
   "id": "1e7480a0-5209-4e25-a5ac-b3ac3be95cb0",
   "metadata": {},
   "source": [
    "# Verificar a Existência dos Buckets e Criá-los se Necessário"
   ]
  },
  {
   "cell_type": "code",
   "execution_count": null,
   "id": "40d0d978-7aba-433a-a649-4cfc7db28fe2",
   "metadata": {},
   "outputs": [],
   "source": [
    "# Verificar e criar buckets 'raw' e 'stage' se não existirem\n",
    "raw_bucket = datalake.get_bucket(settings.RAW_BUCKET)\n",
    "if not raw_bucket.bucket_exists():\n",
    "    raw_bucket.create_bucket()\n",
    "    print(f\"Bucket '{settings.RAW_BUCKET}' criado.\")\n",
    "else:\n",
    "    print(f\"Bucket '{settings.RAW_BUCKET}' já existe.\")\n",
    "\n",
    "stage_bucket = datalake.get_bucket(settings.STAGE_BUCKET)\n",
    "if not stage_bucket.bucket_exists():\n",
    "    stage_bucket.create_bucket()\n",
    "    print(f\"Bucket '{settings.STAGE_BUCKET}' criado.\")\n",
    "else:\n",
    "    print(f\"Bucket '{settings.STAGE_BUCKET}' já existe.\")\n"
   ]
  }
 ],
 "metadata": {
  "kernelspec": {
   "display_name": "Python 3 (ipykernel)",
   "language": "python",
   "name": "python3"
  },
  "language_info": {
   "codemirror_mode": {
    "name": "ipython",
    "version": 3
   },
   "file_extension": ".py",
   "mimetype": "text/x-python",
   "name": "python",
   "nbconvert_exporter": "python",
   "pygments_lexer": "ipython3",
   "version": "3.11.6"
  }
 },
 "nbformat": 4,
 "nbformat_minor": 5
}
