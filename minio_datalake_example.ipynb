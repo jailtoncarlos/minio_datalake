{
 "cells": [
  {
   "cell_type": "markdown",
   "id": "f63fa5bc-3202-4326-a73f-3535c10c71e7",
   "metadata": {},
   "source": [
    "# Configurar o Notebook"
   ]
  },
  {
   "cell_type": "code",
   "execution_count": 1,
   "id": "00365e7a-2794-4652-ad46-30733105621e",
   "metadata": {},
   "outputs": [
    {
     "name": "stderr",
     "output_type": "stream",
     "text": [
      "DEBUG: Settings loaded successfully.\n"
     ]
    },
    {
     "name": "stdout",
     "output_type": "stream",
     "text": [
      "MINIO_URL: minio:9000\n",
      "ACCESS_KEY: minioadmin\n",
      "SECRET_KEY: minioadmin\n",
      "RAW_BUCKET: raw\n",
      "STAGE_BUCKET: stage\n"
     ]
    }
   ],
   "source": [
    "# Importações necessárias\n",
    "import os\n",
    "from datalake import MinIODatalake\n",
    "import settings as settings\n",
    "\n",
    "# Verifique se as variáveis de ambiente estão configuradas corretamente\n",
    "print(f\"MINIO_URL: {settings.MINIO_URL}\")\n",
    "print(f\"ACCESS_KEY: {settings.ACCESS_KEY}\")\n",
    "print(f\"SECRET_KEY: {settings.SECRET_KEY}\")\n",
    "print(f\"RAW_BUCKET: {settings.RAW_BUCKET}\")\n",
    "print(f\"STAGE_BUCKET: {settings.STAGE_BUCKET}\")\n"
   ]
  },
  {
   "cell_type": "markdown",
   "id": "ea4c9c0a-829e-4906-b107-de03b74b16a4",
   "metadata": {},
   "source": [
    "#  Inicializar a classe MinIODatalake"
   ]
  },
  {
   "cell_type": "code",
   "execution_count": 10,
   "id": "f8e31fda-63d1-4593-8f32-3a198f55f661",
   "metadata": {},
   "outputs": [
    {
     "name": "stderr",
     "output_type": "stream",
     "text": [
      "DEBUG: Command to send: r\n",
      "u\n",
      "SparkSession$\n",
      "rj\n",
      "e\n",
      "\n",
      "DEBUG: Answer received: !ycorg.apache.spark.sql.SparkSession$\n",
      "DEBUG: Command to send: r\n",
      "m\n",
      "org.apache.spark.sql.SparkSession$\n",
      "MODULE$\n",
      "e\n",
      "\n",
      "DEBUG: Answer received: !yro31\n",
      "DEBUG: Command to send: i\n",
      "java.util.HashMap\n",
      "e\n",
      "\n",
      "DEBUG: Answer received: !yao32\n",
      "DEBUG: Command to send: c\n",
      "o32\n",
      "put\n",
      "sspark.app.name\n",
      "sMinIODatalake\n",
      "e\n",
      "\n",
      "DEBUG: Answer received: !yn\n",
      "DEBUG: Command to send: c\n",
      "o31\n",
      "applyModifiableSettings\n",
      "ro24\n",
      "ro32\n",
      "e\n",
      "\n",
      "DEBUG: Answer received: !yv\n",
      "DEBUG: Command to send: m\n",
      "d\n",
      "o32\n",
      "e\n",
      "\n",
      "DEBUG: Answer received: !yv\n"
     ]
    }
   ],
   "source": [
    "logging.basicConfig(\n",
    "    level=logging.DEBUG,  # Definir nível de log\n",
    "    format='%(levelname)s: %(message)s',  # Formato das mensagens de log\n",
    "    force=True\n",
    ")\n",
    "\n",
    "datalake = MinIODatalake(\n",
    "    endpoint=settings.MINIO_URL,\n",
    "    access_key=settings.ACCESS_KEY,\n",
    "    secret_key=settings.SECRET_KEY\n",
    ")"
   ]
  },
  {
   "cell_type": "markdown",
   "id": "1e7480a0-5209-4e25-a5ac-b3ac3be95cb0",
   "metadata": {},
   "source": [
    "# Verificar a Existência dos Buckets e Criá-los se Necessário"
   ]
  },
  {
   "cell_type": "code",
   "execution_count": 9,
   "id": "40d0d978-7aba-433a-a649-4cfc7db28fe2",
   "metadata": {},
   "outputs": [
    {
     "name": "stderr",
     "output_type": "stream",
     "text": [
      "DEBUG: Starting new HTTP connection (1): minio:9000\n",
      "DEBUG: http://minio:9000 \"GET /raw?location= HTTP/1.1\" 200 0\n",
      "DEBUG: http://minio:9000 \"HEAD /raw HTTP/1.1\" 200 0\n",
      "DEBUG: http://minio:9000 \"GET /stage?location= HTTP/1.1\" 200 0\n",
      "DEBUG: http://minio:9000 \"HEAD /stage HTTP/1.1\" 200 0\n"
     ]
    },
    {
     "name": "stdout",
     "output_type": "stream",
     "text": [
      "Bucket 'raw' já existe.\n",
      "Bucket 'stage' já existe.\n"
     ]
    }
   ],
   "source": [
    "# Verificar e criar buckets 'raw' e 'stage' se não existirem\n",
    "raw_bucket = datalake.get_bucket(settings.RAW_BUCKET)\n",
    "if not raw_bucket.bucket_exists():\n",
    "    raw_bucket.create_bucket()\n",
    "    print(f\"Bucket '{settings.RAW_BUCKET}' criado.\")\n",
    "else:\n",
    "    print(f\"Bucket '{settings.RAW_BUCKET}' já existe.\")\n",
    "\n",
    "stage_bucket = datalake.get_bucket(settings.STAGE_BUCKET)\n",
    "if not stage_bucket.bucket_exists():\n",
    "    stage_bucket.create_bucket()\n",
    "    print(f\"Bucket '{settings.STAGE_BUCKET}' criado.\")\n",
    "else:\n",
    "    print(f\"Bucket '{settings.STAGE_BUCKET}' já existe.\")\n"
   ]
  }
 ],
 "metadata": {
  "kernelspec": {
   "display_name": "Python 3 (ipykernel)",
   "language": "python",
   "name": "python3"
  },
  "language_info": {
   "codemirror_mode": {
    "name": "ipython",
    "version": 3
   },
   "file_extension": ".py",
   "mimetype": "text/x-python",
   "name": "python",
   "nbconvert_exporter": "python",
   "pygments_lexer": "ipython3",
   "version": "3.11.6"
  }
 },
 "nbformat": 4,
 "nbformat_minor": 5
}
