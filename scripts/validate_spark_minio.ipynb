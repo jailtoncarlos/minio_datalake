{
 "cells": [
  {
   "cell_type": "markdown",
   "id": "b7894834-c182-4cdc-aee6-c0c524fc3582",
   "metadata": {},
   "source": [
    "## Intancia um objeto MinioSpark"
   ]
  },
  {
   "cell_type": "code",
   "execution_count": 1,
   "id": "4b49232c-f829-4282-94fb-a5f54054b482",
   "metadata": {},
   "outputs": [],
   "source": [
    "from minio_spark import MinioSpark\n",
    "datalake = MinioSpark()"
   ]
  },
  {
   "cell_type": "markdown",
   "id": "35c23b8f-c97c-4430-9225-fe85708510f0",
   "metadata": {},
   "source": [
    "## Lista todos os buckets do datalake"
   ]
  },
  {
   "cell_type": "code",
   "execution_count": 2,
   "id": "e4e7cd24-6a8a-4d8d-be9b-4336cfc52016",
   "metadata": {},
   "outputs": [
    {
     "name": "stdout",
     "output_type": "stream",
     "text": [
      "Buckets in the root of the DataLake:\n",
      "raw\n",
      "stage\n"
     ]
    }
   ],
   "source": [
    "buckets = datalake.client.list_buckets()\n",
    "print(\"Buckets in the root of the DataLake:\")\n",
    "for bucket in buckets:\n",
    "    print(bucket.name)"
   ]
  },
  {
   "cell_type": "markdown",
   "id": "d6f0a059-dbd8-4a91-8696-dda89f419ecb",
   "metadata": {},
   "source": [
    "## Lista todos os arquivos do bucket \"raw\" que iniciam com \"GSH_APAC\""
   ]
  },
  {
   "cell_type": "code",
   "execution_count": 4,
   "id": "008b61b8-6a6d-4c27-b106-9cc945331c05",
   "metadata": {},
   "outputs": [
    {
     "name": "stdout",
     "output_type": "stream",
     "text": [
      "GSH_APAC_1.zip\n",
      "GSH_APAC_2.zip\n",
      "GSH_APAC_3.zip\n",
      "GSH_APAC_4.zip\n",
      "GSH_APAC_5.zip\n"
     ]
    }
   ],
   "source": [
    "raw_bucket = datalake.get_bucket('raw')\n",
    "for obj in raw_bucket.list_objects(prefix=\"GSH_APAC\"):\n",
    "    print(obj.name)"
   ]
  },
  {
   "cell_type": "markdown",
   "id": "76d615a5-51a2-4acb-97c6-6696a0de7c72",
   "metadata": {},
   "source": [
    "## Carrega os arquivos .zip em um dataframe spark.\n",
    "\n",
    "O método `read_csv_from_zip` tem como objetivo ler arquivos CSV compactados em um arquivo ZIP. O processo ocorre em três etapas:\n",
    "\n",
    "1. **Criação da pasta:**\n",
    "\n",
    "Um objeto Minio é utilizado para criar uma pasta temporária com o nome do prefixo fornecido, no exemplo \"GSH_APAC\". Essa pasta servirá para armazenar os arquivos descompactados.\n",
    "\n",
    "2. **Descompactação dos arquivos:**\n",
    "\n",
    "Todos os arquivos dentro do arquivo ZIP serão descompactados e extraídos para a pasta criada na etapa anterior. Isso garante que os arquivos CSV fiquem acessíveis para leitura.\n",
    "\n",
    "3. **Leitura dos arquivos CSV:**\n",
    "\n",
    "Finalmente, o método lê cada um dos arquivos CSV descompactados na pasta \"GSH_APAC\". O conteúdo desses arquivos pode ser processado conforme as necessidades da aplicação."
   ]
  },
  {
   "cell_type": "code",
   "execution_count": 7,
   "id": "64b7ee2d-da63-40c4-8bf2-2370345a08c6",
   "metadata": {},
   "outputs": [
    {
     "data": {
      "text/plain": [
       "3677282"
      ]
     },
     "execution_count": 7,
     "metadata": {},
     "output_type": "execute_result"
    }
   ],
   "source": [
    "df = datalake.read_csv_from_zip('raw', 'GSH_APAC', delimiter='|')\n",
    "df.count()"
   ]
  },
  {
   "cell_type": "markdown",
   "id": "340b1d8c-59e3-4a85-8a72-f7aeeb41598f",
   "metadata": {},
   "source": [
    "## Lista os arquivos descompactados na pasta \"GSH_APAC\""
   ]
  },
  {
   "cell_type": "code",
   "execution_count": 9,
   "id": "71ae9f3f-e161-4aed-9a80-80b8049b169c",
   "metadata": {},
   "outputs": [
    {
     "name": "stdout",
     "output_type": "stream",
     "text": [
      "GSH_APAC/GSH_APAC_1.txt\n",
      "GSH_APAC/GSH_APAC_2.txt\n",
      "GSH_APAC/GSH_APAC_3.txt\n",
      "GSH_APAC/GSH_APAC_4.txt\n",
      "GSH_APAC/GSH_APAC_5.txt\n"
     ]
    }
   ],
   "source": [
    "raw_bucket = datalake.get_bucket('raw')\n",
    "for obj in raw_bucket.list_objects(prefix=\"GSH_APAC/\"):\n",
    "    print(obj.name)"
   ]
  },
  {
   "cell_type": "markdown",
   "id": "04ff14e3-64c9-40cf-a99b-9356f4f752f9",
   "metadata": {},
   "source": [
    "## Carrega o arquivo (objeto MinIO) GSH_APAC/GSH_APAC_1.txt em um datafame"
   ]
  },
  {
   "cell_type": "code",
   "execution_count": 7,
   "id": "7d08fd21-550d-41b6-99d4-cf31627444cd",
   "metadata": {},
   "outputs": [
    {
     "data": {
      "text/plain": [
       "956914"
      ]
     },
     "execution_count": 7,
     "metadata": {},
     "output_type": "execute_result"
    }
   ],
   "source": [
    "df = datalake.read_csv_to_dataframe('raw', 'GSH_APAC/GSH_APAC_1.txt', delimiter='|')\n",
    "df.count()"
   ]
  },
  {
   "cell_type": "code",
   "execution_count": 17,
   "id": "8a6f43df-7014-4c1d-a406-b9e253854828",
   "metadata": {},
   "outputs": [
    {
     "name": "stdout",
     "output_type": "stream",
     "text": [
      "+-------+--------------+--------------------------------------------+\n",
      "|APAC_ID|APCIDPRINC_CID|APCIDPRINC_DESCR_CID                        |\n",
      "+-------+--------------+--------------------------------------------+\n",
      "|4      |M810          |OSTEOPOROSE POS-MENOPAUSICA                 |\n",
      "|5      |L700          |ACNE VULGAR                                 |\n",
      "|6      |L700          |ACNE VULGAR                                 |\n",
      "|7      |N180          |DOENC RENAL EM ESTADIO FINAL                |\n",
      "|8      |E78           |DISTURBIOS METAB LIPOPROTEINAS E OUT LIPIDEM|\n",
      "|9      |G300          |DOENC DE ALZHEIMER DE INICIO PRECOCE        |\n",
      "|10     |F900          |DISTURBIOS DA ATIVIDADE E DA ATENCAO        |\n",
      "|11     |E228          |OUTR HIPERFUNCOES DA HIPOFISE               |\n",
      "|12     |L708          |OUTR FORM DE ACNE                           |\n",
      "|13     |F200          |ESQUIZOFRENIA PARANOIDE                     |\n",
      "|14     |L700          |ACNE VULGAR                                 |\n",
      "|15     |M068          |OUTR ARTRITES REUMATOIDES ESPEC             |\n",
      "|16     |P200          |HIPOXIA INTRA-UTER DIAGN ANT INIC TRAB PARTO|\n",
      "|17     |E41           |MARASMO NUTRICIONAL                         |\n",
      "|18     |C155          |TERCO INFER DO ESOFAGO                      |\n",
      "|19     |G300          |DOENC DE ALZHEIMER DE INICIO PRECOCE        |\n",
      "|20     |F200          |ESQUIZOFRENIA PARANOIDE                     |\n",
      "|21     |M060          |ARTRITE REUMATOIDE SORO-NEGATIVA            |\n",
      "|22     |G300          |DOENC DE ALZHEIMER DE INICIO PRECOCE        |\n",
      "|23     |B182          |HEPATITE VIRAL CRONICA C                    |\n",
      "+-------+--------------+--------------------------------------------+\n",
      "only showing top 20 rows\n",
      "\n"
     ]
    }
   ],
   "source": [
    "df.select('APAC_ID', 'APCIDPRINC_CID', 'APCIDPRINC_DESCR_CID').show(truncate=False)"
   ]
  },
  {
   "cell_type": "code",
   "execution_count": 11,
   "id": "bfd2b537-3fae-4547-b349-50ca9d674d37",
   "metadata": {},
   "outputs": [
    {
     "name": "stdout",
     "output_type": "stream",
     "text": [
      "root\n",
      " |-- APAC_ID: string (nullable = true)\n",
      " |-- APAC_ID_ANTERIOR: string (nullable = true)\n",
      " |-- APAC_PPI_MOVIMENTACAO: string (nullable = true)\n",
      " |-- APAC_USUARIO_AUTORIZADOR: string (nullable = true)\n",
      " |-- APAC_DATA_AUTORIZACAO: string (nullable = true)\n",
      " |-- APAC_DATA_FIM: string (nullable = true)\n",
      " |-- APAC_DATA_INICIO: date (nullable = true)\n",
      " |-- APAC_DATA_PREVISAO_AUTORIZACAO: integer (nullable = true)\n",
      " |-- APAC_DATA_REJEICAO: string (nullable = true)\n",
      " |-- APAC_DATA_SOLICITACAO: string (nullable = true)\n",
      " |-- APAC_DT_ENCERRAMENTO: string (nullable = true)\n",
      " |-- APAC_DT_FINALIZACAO_APAC: string (nullable = true)\n",
      " |-- APAC_DT_SENHA_TRIAGEM: string (nullable = true)\n",
      " |-- APAC_DV_APAC: string (nullable = true)\n",
      " |-- APAC_EXAMES_CLINICOS: string (nullable = true)\n",
      " |-- APAC_FLAG_ESTADO: integer (nullable = true)\n",
      " |-- APAC_FLAG_NUMERACAO: string (nullable = true)\n",
      " |-- APAC_FLAG_RECEITA_SUS: string (nullable = true)\n",
      " |-- APAC_ID_APAC_CANCELA_MOTIVO: string (nullable = true)\n",
      " |-- APAC_ID_APAC_MOTIVO_COBRANCA: string (nullable = true)\n",
      " |-- APAC_LAUDO: string (nullable = true)\n",
      " |-- APAC_MOTIVO_TEXTO: string (nullable = true)\n",
      " |-- APAC_MOTIVO_CANCELAMENTO_TEXTO: string (nullable = true)\n",
      " |-- APAC_MOTIVO_FINALIZACAO_TEXTO: string (nullable = true)\n",
      " |-- APAC_NOME_ADVOGADO: integer (nullable = true)\n",
      " |-- APAC_NOME_JUIZ: integer (nullable = true)\n",
      " |-- APAC_NUMERO_VERSAO: string (nullable = true)\n",
      " |-- APAC_NUMERO_APAC: long (nullable = true)\n",
      " |-- APAC_NUMERO_LIMINAR: string (nullable = true)\n",
      " |-- APAC_OBSERVACAO_LIMINAR: integer (nullable = true)\n",
      " |-- APAC_QTD_PROC_PRINCIPAL: string (nullable = true)\n",
      " |-- APAC_QTD_1MES: integer (nullable = true)\n",
      " |-- APAC_QTD_2MES: integer (nullable = true)\n",
      " |-- APAC_QTD_3MES: integer (nullable = true)\n",
      " |-- APAC_REGISTRO_ADV: string (nullable = true)\n",
      " |-- APAC_RENOVADO: string (nullable = true)\n",
      " |-- APAC_SENHA_TRIAGEM: string (nullable = true)\n",
      " |-- APAC_UPS_SOLICITANTE: integer (nullable = true)\n",
      " |-- APAC_USUARIO: integer (nullable = true)\n",
      " |-- APAC_STATUS_ID: integer (nullable = true)\n",
      " |-- APAC_STATUS_DESCR: string (nullable = true)\n",
      " |-- APAC_MOTIVO_REJEICAO_DESCR: string (nullable = true)\n",
      " |-- APAC_MOTIVO_REJEICAO_ID: string (nullable = true)\n",
      " |-- APAC_TIPO_ID: string (nullable = true)\n",
      " |-- APAC_TIPO_DESCR: string (nullable = true)\n",
      " |-- CIDASSOC_ID_CID: string (nullable = true)\n",
      " |-- CIDASSOC_CID: string (nullable = true)\n",
      " |-- CIDASSOC_CID_APAC: string (nullable = true)\n",
      " |-- CIDASSOC_SEXO_ID: string (nullable = true)\n",
      " |-- CIDASSOC_SEXO_DESCR: string (nullable = true)\n",
      " |-- CIDASSOC_IDADE_MINIMA: string (nullable = true)\n",
      " |-- CIDASSOC_IDADE_MAXIMA: string (nullable = true)\n",
      " |-- CIDASSOC_DESCR_CID: string (nullable = true)\n",
      " |-- CIDASSOC_CAT_HAB_ID: string (nullable = true)\n",
      " |-- CIDASSOC_CAT_HAB_DESCR: string (nullable = true)\n",
      " |-- CIDASSOC_SUBCAT_HAB_ID: string (nullable = true)\n",
      " |-- CIDASSOC_SUBCAT_HAB_DESCR: string (nullable = true)\n",
      " |-- CIDASSOC_ESTAD_HAB_ID: string (nullable = true)\n",
      " |-- CIDASSOC_ESTAD_HAB_DESCR: string (nullable = true)\n",
      " |-- CIDASSOC_RRADIO_HAB_ID: integer (nullable = true)\n",
      " |-- CIDASSOC_RRADIO_HAB_DESCR: string (nullable = true)\n",
      " |-- CIDASSOC_MAXC_IRRADIAVEIS: integer (nullable = true)\n",
      " |-- APCIDPRINC_ID_CID: string (nullable = true)\n",
      " |-- APCIDPRINC_CID: string (nullable = true)\n",
      " |-- APCIDPRINC_CID_APAC: string (nullable = true)\n",
      " |-- APCIDPRINC_SEXO_ID: integer (nullable = true)\n",
      " |-- APCIDPRINC_SEXO_DESCR: string (nullable = true)\n",
      " |-- APCIDPRINC_IDADE_MINIMA: string (nullable = true)\n",
      " |-- APCIDPRINC_IDADE_MAXIMA: integer (nullable = true)\n",
      " |-- APCIDPRINC_DESCR_CID: string (nullable = true)\n",
      " |-- APCIDPRINC_MAXC_IRRADIAVEIS: integer (nullable = true)\n",
      " |-- APCIDPRINC_CAT_HAB_ID: integer (nullable = true)\n",
      " |-- APCIDPRINC_CAT_HAB_DESCR: string (nullable = true)\n",
      " |-- APCIDPRINC_SUBCAT_HAB_ID: integer (nullable = true)\n",
      " |-- APCIDPRINC_SUBCAT_HAB_DESCR: string (nullable = true)\n",
      " |-- APCIDPRINC_ESTAD_HAB_ID: string (nullable = true)\n",
      " |-- APCIDPRINC_ESTAD_HAB_DESCR: string (nullable = true)\n",
      " |-- APCIDPRINC_RRADIO_HAB_ID: string (nullable = true)\n",
      " |-- APCIDPRINC_RRADIO_HAB_DESCR: string (nullable = true)\n",
      " |-- APCIDSEC_ID_CID: string (nullable = true)\n",
      " |-- APCIDSEC_CID: string (nullable = true)\n",
      " |-- APCIDSEC_CID_APAC: string (nullable = true)\n",
      " |-- APCIDSEC_SEXO_ID: integer (nullable = true)\n",
      " |-- APCIDSEC_SEXO_DESCR: string (nullable = true)\n",
      " |-- APCIDSEC_IDADE_MINIMA: integer (nullable = true)\n",
      " |-- APCIDSEC_IDADE_MAXIMA: integer (nullable = true)\n",
      " |-- APCIDSEC_DESCR_CID: string (nullable = true)\n",
      " |-- APCIDSEC_MAXC_IRRADIAVEIS: integer (nullable = true)\n",
      " |-- APCIDSEC_CAT_HAB_ID: integer (nullable = true)\n",
      " |-- APCIDSEC_CAT_HAB_DESCR: string (nullable = true)\n",
      " |-- APCIDSEC_SUBCAT_HAB_ID: integer (nullable = true)\n",
      " |-- APCIDSEC_SUBCAT_HAB_DESCR: string (nullable = true)\n",
      " |-- APCIDSEC_ESTAD_HAB_ID: integer (nullable = true)\n",
      " |-- APCIDSEC_ESTAD_HAB_DESCR: string (nullable = true)\n",
      " |-- APCIDSEC_RRADIO_HAB_ID: integer (nullable = true)\n",
      " |-- APCIDSEC_RRADIO_HAB_DESCR: string (nullable = true)\n",
      " |-- APUSPEXEC_ID: integer (nullable = true)\n",
      " |-- APUSPSOLIC_ID: integer (nullable = true)\n",
      " |-- APMEDCSOLICITANTE_ID: integer (nullable = true)\n",
      " |-- APMEDCSOLICITANTE_COD_IBGE: string (nullable = true)\n",
      " |-- APMEDCSOLICITANTE_DESCR_MUNIC: string (nullable = true)\n",
      " |-- APMEDCSOLICITANTE_ID_UF: string (nullable = true)\n",
      " |-- APMEDCSOLICITANTE_COD_SUS: string (nullable = true)\n",
      " |-- APPROCAMB_PREPARO: string (nullable = true)\n",
      " |-- APPROCAMB_DATA_HABILITACAO: integer (nullable = true)\n",
      " |-- APPROCAMB_HABILITADO: integer (nullable = true)\n",
      " |-- APPROCAMB_DESCR: integer (nullable = true)\n",
      " |-- APPROCAMB_ID: integer (nullable = true)\n",
      " |-- APPROCAMB_DATA_DESABILITACAO: date (nullable = true)\n",
      " |-- APMEDICOAUT_AUT_PROF_ID: long (nullable = true)\n",
      " |-- APMEDICOAUT_AUT_ID_PESSOA: string (nullable = true)\n",
      " |-- APMEDICOAUT_AUT_CONTA_CORRENTE: integer (nullable = true)\n",
      " |-- APMEDICREJEICAO_PROF_ID: long (nullable = true)\n",
      " |-- APMEDICREJEICAO_ID_PESSOA: integer (nullable = true)\n",
      " |-- PMEDICREJEICAO_CONTA_CORRENTE: string (nullable = true)\n",
      " |-- APMEDICOSOLIC_PROF_ID: long (nullable = true)\n",
      " |-- APMEDICOSOLIC_ID_PESSOA: integer (nullable = true)\n",
      " |-- APMEDICOSOLIC_CONTA_CORRENTE: string (nullable = true)\n",
      " |-- APPRONTURARIO_ID: integer (nullable = true)\n",
      " |-- APPRONTURARIO_NUMERO: integer (nullable = true)\n",
      " |-- APPRONTURARIO_NUMERO_ANTIGO: string (nullable = true)\n",
      " |-- APPRONTURARIO_ID_HOSPITAL: integer (nullable = true)\n",
      " |-- APPRONTURARIO_DATA_ABERTURA: date (nullable = true)\n",
      " |-- APPRONTURARIO_PID_INTEGRACAO: string (nullable = true)\n",
      " |-- APPRONTURARIO_DATA_CRIACAO: date (nullable = true)\n",
      " |-- APPRONTURARIO_ID_PESSOA: integer (nullable = true)\n",
      " |-- APPRONTURARIO_PROVISORIO: integer (nullable = true)\n",
      "\n"
     ]
    }
   ],
   "source": [
    "df.printSchema()"
   ]
  }
 ],
 "metadata": {
  "kernelspec": {
   "display_name": "Python 3 (ipykernel)",
   "language": "python",
   "name": "python3"
  },
  "language_info": {
   "codemirror_mode": {
    "name": "ipython",
    "version": 3
   },
   "file_extension": ".py",
   "mimetype": "text/x-python",
   "name": "python",
   "nbconvert_exporter": "python",
   "pygments_lexer": "ipython3",
   "version": "3.11.6"
  }
 },
 "nbformat": 4,
 "nbformat_minor": 5
}
