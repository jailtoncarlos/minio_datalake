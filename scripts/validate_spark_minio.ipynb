{
 "cells": [
  {
   "cell_type": "markdown",
   "id": "b7894834-c182-4cdc-aee6-c0c524fc3582",
   "metadata": {},
   "source": [
    "## Intancia um objeto MinioSpark"
   ]
  },
  {
   "cell_type": "code",
   "execution_count": 5,
   "id": "4b49232c-f829-4282-94fb-a5f54054b482",
   "metadata": {},
   "outputs": [],
   "source": [
    "from minio_spark import MinioSpark\n",
    "datalake = MinioSpark()"
   ]
  },
  {
   "cell_type": "markdown",
   "id": "35c23b8f-c97c-4430-9225-fe85708510f0",
   "metadata": {},
   "source": [
    "## Lista todos os buckets do datalake"
   ]
  },
  {
   "cell_type": "code",
   "execution_count": 6,
   "id": "e4e7cd24-6a8a-4d8d-be9b-4336cfc52016",
   "metadata": {},
   "outputs": [
    {
     "name": "stdout",
     "output_type": "stream",
     "text": [
      "Buckets in the root of the DataLake:\n",
      "raw\n",
      "stage\n"
     ]
    }
   ],
   "source": [
    "buckets = datalake.client.list_buckets()\n",
    "print(\"Buckets in the root of the DataLake:\")\n",
    "for bucket in buckets:\n",
    "    print(bucket.name)"
   ]
  },
  {
   "cell_type": "markdown",
   "id": "d6f0a059-dbd8-4a91-8696-dda89f419ecb",
   "metadata": {},
   "source": [
    "## Lista todos os arquivos do bucket \"raw\" que iniciam com \"GSH_APAC\""
   ]
  },
  {
   "cell_type": "code",
   "execution_count": 9,
   "id": "008b61b8-6a6d-4c27-b106-9cc945331c05",
   "metadata": {},
   "outputs": [
    {
     "name": "stdout",
     "output_type": "stream",
     "text": [
      "MVSISS/GSH_APAC_1.zip\n",
      "MVSISS/GSH_APAC_2.zip\n",
      "MVSISS/GSH_APAC_3.zip\n",
      "MVSISS/GSH_APAC_4.zip\n",
      "MVSISS/GSH_APAC_5.zip\n",
      "MVSISS/GSH_APAC_MEDICAMENTO_1.zip\n",
      "MVSISS/GSH_APAC_MEDICAMENTO_2.zip\n"
     ]
    }
   ],
   "source": [
    "raw_bucket = datalake.get_bucket('raw')\n",
    "for obj in raw_bucket.list_objects(prefix=\"MVSISS/GSH_APAC_\"):\n",
    "    print(obj.name)"
   ]
  },
  {
   "cell_type": "code",
   "execution_count": 13,
   "id": "796e6fb6-531b-40a2-89eb-6d8b81fe37e9",
   "metadata": {},
   "outputs": [
    {
     "ename": "AttributeError",
     "evalue": "'MinioSpark' object has no attribute 'list_objects'",
     "output_type": "error",
     "traceback": [
      "\u001B[0;31m---------------------------------------------------------------------------\u001B[0m",
      "\u001B[0;31mAttributeError\u001B[0m                            Traceback (most recent call last)",
      "Cell \u001B[0;32mIn[13], line 6\u001B[0m\n\u001B[1;32m      3\u001B[0m prefix \u001B[38;5;241m=\u001B[39m \u001B[38;5;124m\"\u001B[39m\u001B[38;5;124mMVSISS/GSH_APAC_\u001B[39m\u001B[38;5;124m\"\u001B[39m\n\u001B[1;32m      5\u001B[0m \u001B[38;5;66;03m# Lista os objetos com o prefixo definido\u001B[39;00m\n\u001B[0;32m----> 6\u001B[0m objects \u001B[38;5;241m=\u001B[39m \u001B[43mdatalake\u001B[49m\u001B[38;5;241;43m.\u001B[39;49m\u001B[43mlist_objects\u001B[49m(bucket_name, prefix\u001B[38;5;241m=\u001B[39mprefix, recursive\u001B[38;5;241m=\u001B[39m\u001B[38;5;28;01mTrue\u001B[39;00m)\n\u001B[1;32m      7\u001B[0m \u001B[38;5;28;01mfor\u001B[39;00m obj \u001B[38;5;129;01min\u001B[39;00m objects:\n\u001B[1;32m      8\u001B[0m     \u001B[38;5;28mprint\u001B[39m(obj\u001B[38;5;241m.\u001B[39mobject_name)\n",
      "\u001B[0;31mAttributeError\u001B[0m: 'MinioSpark' object has no attribute 'list_objects'"
     ]
    }
   ],
   "source": [
    "from minio.error import S3Error\n",
    "raw_bucket = datalake.get_bucket('raw')\n",
    "prefix = \"MVSISS/GSH_APAC_\"\n",
    "\n",
    "# Lista os objetos com o prefixo definido\n",
    "objects = datalake.list_objects(bucket_name, prefix=prefix, recursive=True)\n",
    "for obj in objects:\n",
    "    print(obj.object_name)\n",
    "\n",
    "\n",
    "raw_bucket = datalake.get_bucket('raw')\n",
    "for obj in raw_bucket.list_objects(prefix=\"MVSISS/GSH_APAC_\",  recursive=True):\n",
    "    print(obj.name)"
   ]
  },
  {
   "cell_type": "markdown",
   "id": "76d615a5-51a2-4acb-97c6-6696a0de7c72",
   "metadata": {},
   "source": [
    "## Carrega os arquivos .zip em um dataframe spark.\n",
    "\n",
    "O método `read_csv_from_zip` tem como objetivo ler arquivos CSV compactados em um arquivo ZIP. O processo ocorre em três etapas:\n",
    "\n",
    "1. **Criação da pasta:**\n",
    "\n",
    "Um objeto Minio é utilizado para criar uma pasta temporária com o nome do prefixo fornecido, no exemplo \"GSH_APAC\". Essa pasta servirá para armazenar os arquivos descompactados.\n",
    "\n",
    "2. **Descompactação dos arquivos:**\n",
    "\n",
    "Todos os arquivos dentro do arquivo ZIP serão descompactados e extraídos para a pasta criada na etapa anterior. Isso garante que os arquivos CSV fiquem acessíveis para leitura.\n",
    "\n",
    "3. **Leitura dos arquivos CSV:**\n",
    "\n",
    "Finalmente, o método lê cada um dos arquivos CSV descompactados na pasta \"GSH_APAC\". O conteúdo desses arquivos pode ser processado conforme as necessidades da aplicação."
   ]
  },
  {
   "cell_type": "code",
   "execution_count": 4,
   "id": "64b7ee2d-da63-40c4-8bf2-2370345a08c6",
   "metadata": {},
   "outputs": [
    {
     "ename": "AnalysisException",
     "evalue": "[PATH_NOT_FOUND] Path does not exist: s3a://raw/GSH_APAC_.",
     "output_type": "error",
     "traceback": [
      "\u001B[0;31m---------------------------------------------------------------------------\u001B[0m",
      "\u001B[0;31mAnalysisException\u001B[0m                         Traceback (most recent call last)",
      "Cell \u001B[0;32mIn[4], line 1\u001B[0m\n\u001B[0;32m----> 1\u001B[0m df \u001B[38;5;241m=\u001B[39m \u001B[43mdatalake\u001B[49m\u001B[38;5;241;43m.\u001B[39;49m\u001B[43mread_csv_from_zip\u001B[49m\u001B[43m(\u001B[49m\u001B[38;5;124;43m'\u001B[39;49m\u001B[38;5;124;43mraw\u001B[39;49m\u001B[38;5;124;43m'\u001B[39;49m\u001B[43m,\u001B[49m\u001B[43m \u001B[49m\u001B[38;5;124;43m'\u001B[39;49m\u001B[38;5;124;43mGSH_APAC_\u001B[39;49m\u001B[38;5;124;43m'\u001B[39;49m\u001B[43m,\u001B[49m\u001B[43m \u001B[49m\u001B[43mdelimiter\u001B[49m\u001B[38;5;241;43m=\u001B[39;49m\u001B[38;5;124;43m'\u001B[39;49m\u001B[38;5;124;43m|\u001B[39;49m\u001B[38;5;124;43m'\u001B[39;49m\u001B[43m)\u001B[49m\n\u001B[1;32m      2\u001B[0m df\u001B[38;5;241m.\u001B[39mcount()\n",
      "File \u001B[0;32m~/minio_spark/minio_spark/datalake.py:172\u001B[0m, in \u001B[0;36mMinioSpark.read_csv_from_zip\u001B[0;34m(self, bucket_name, prefix, delimiter, format_source, option_args)\u001B[0m\n\u001B[1;32m    169\u001B[0m extracted_folder_object \u001B[38;5;241m=\u001B[39m MinioObject(\u001B[38;5;28mself\u001B[39m\u001B[38;5;241m.\u001B[39mclient, bucket_name, os\u001B[38;5;241m.\u001B[39mpath\u001B[38;5;241m.\u001B[39msplitext(prefix)[\u001B[38;5;241m0\u001B[39m])\n\u001B[1;32m    171\u001B[0m \u001B[38;5;66;03m# Read the CSV files directly from the extracted folder\u001B[39;00m\n\u001B[0;32m--> 172\u001B[0m df \u001B[38;5;241m=\u001B[39m \u001B[38;5;28;43mself\u001B[39;49m\u001B[38;5;241;43m.\u001B[39;49m\u001B[43mread_csv_to_dataframe\u001B[49m\u001B[43m(\u001B[49m\u001B[43mextracted_folder_object\u001B[49m\u001B[38;5;241;43m.\u001B[39;49m\u001B[43mbucket_name\u001B[49m\u001B[43m,\u001B[49m\u001B[43m \u001B[49m\u001B[43mextracted_folder_object\u001B[49m\u001B[38;5;241;43m.\u001B[39;49m\u001B[43mname\u001B[49m\u001B[43m,\u001B[49m\n\u001B[1;32m    173\u001B[0m \u001B[43m                                \u001B[49m\u001B[43mdelimiter\u001B[49m\u001B[38;5;241;43m=\u001B[39;49m\u001B[43mdelimiter\u001B[49m\u001B[43m,\u001B[49m\u001B[43m \u001B[49m\u001B[43mformat_source\u001B[49m\u001B[38;5;241;43m=\u001B[39;49m\u001B[43mformat_source\u001B[49m\u001B[43m,\u001B[49m\u001B[43m \u001B[49m\u001B[43moption_args\u001B[49m\u001B[38;5;241;43m=\u001B[39;49m\u001B[43moption_args\u001B[49m\u001B[43m)\u001B[49m\n\u001B[1;32m    175\u001B[0m \u001B[38;5;28;01mreturn\u001B[39;00m df\n",
      "File \u001B[0;32m~/minio_spark/minio_spark/datalake.py:210\u001B[0m, in \u001B[0;36mMinioSpark.read_csv_to_dataframe\u001B[0;34m(self, bucket_name, prefix, delimiter, format_source, option_args)\u001B[0m\n\u001B[1;32m    208\u001B[0m \u001B[38;5;66;03m# Ensure the delimiter option is set\u001B[39;00m\n\u001B[1;32m    209\u001B[0m reader \u001B[38;5;241m=\u001B[39m reader\u001B[38;5;241m.\u001B[39moption(\u001B[38;5;124m'\u001B[39m\u001B[38;5;124mdelimiter\u001B[39m\u001B[38;5;124m'\u001B[39m, delimiter)\n\u001B[0;32m--> 210\u001B[0m df \u001B[38;5;241m=\u001B[39m \u001B[43mreader\u001B[49m\u001B[38;5;241;43m.\u001B[39;49m\u001B[43mload\u001B[49m\u001B[43m(\u001B[49m\u001B[43mpath\u001B[49m\u001B[43m)\u001B[49m\n\u001B[1;32m    211\u001B[0m \u001B[38;5;28;01mreturn\u001B[39;00m df\n",
      "File \u001B[0;32m/usr/local/spark/python/pyspark/sql/readwriter.py:307\u001B[0m, in \u001B[0;36mDataFrameReader.load\u001B[0;34m(self, path, format, schema, **options)\u001B[0m\n\u001B[1;32m    305\u001B[0m \u001B[38;5;28mself\u001B[39m\u001B[38;5;241m.\u001B[39moptions(\u001B[38;5;241m*\u001B[39m\u001B[38;5;241m*\u001B[39moptions)\n\u001B[1;32m    306\u001B[0m \u001B[38;5;28;01mif\u001B[39;00m \u001B[38;5;28misinstance\u001B[39m(path, \u001B[38;5;28mstr\u001B[39m):\n\u001B[0;32m--> 307\u001B[0m     \u001B[38;5;28;01mreturn\u001B[39;00m \u001B[38;5;28mself\u001B[39m\u001B[38;5;241m.\u001B[39m_df(\u001B[38;5;28;43mself\u001B[39;49m\u001B[38;5;241;43m.\u001B[39;49m\u001B[43m_jreader\u001B[49m\u001B[38;5;241;43m.\u001B[39;49m\u001B[43mload\u001B[49m\u001B[43m(\u001B[49m\u001B[43mpath\u001B[49m\u001B[43m)\u001B[49m)\n\u001B[1;32m    308\u001B[0m \u001B[38;5;28;01melif\u001B[39;00m path \u001B[38;5;129;01mis\u001B[39;00m \u001B[38;5;129;01mnot\u001B[39;00m \u001B[38;5;28;01mNone\u001B[39;00m:\n\u001B[1;32m    309\u001B[0m     \u001B[38;5;28;01mif\u001B[39;00m \u001B[38;5;28mtype\u001B[39m(path) \u001B[38;5;241m!=\u001B[39m \u001B[38;5;28mlist\u001B[39m:\n",
      "File \u001B[0;32m/usr/local/spark/python/lib/py4j-0.10.9.7-src.zip/py4j/java_gateway.py:1322\u001B[0m, in \u001B[0;36mJavaMember.__call__\u001B[0;34m(self, *args)\u001B[0m\n\u001B[1;32m   1316\u001B[0m command \u001B[38;5;241m=\u001B[39m proto\u001B[38;5;241m.\u001B[39mCALL_COMMAND_NAME \u001B[38;5;241m+\u001B[39m\\\n\u001B[1;32m   1317\u001B[0m     \u001B[38;5;28mself\u001B[39m\u001B[38;5;241m.\u001B[39mcommand_header \u001B[38;5;241m+\u001B[39m\\\n\u001B[1;32m   1318\u001B[0m     args_command \u001B[38;5;241m+\u001B[39m\\\n\u001B[1;32m   1319\u001B[0m     proto\u001B[38;5;241m.\u001B[39mEND_COMMAND_PART\n\u001B[1;32m   1321\u001B[0m answer \u001B[38;5;241m=\u001B[39m \u001B[38;5;28mself\u001B[39m\u001B[38;5;241m.\u001B[39mgateway_client\u001B[38;5;241m.\u001B[39msend_command(command)\n\u001B[0;32m-> 1322\u001B[0m return_value \u001B[38;5;241m=\u001B[39m \u001B[43mget_return_value\u001B[49m\u001B[43m(\u001B[49m\n\u001B[1;32m   1323\u001B[0m \u001B[43m    \u001B[49m\u001B[43manswer\u001B[49m\u001B[43m,\u001B[49m\u001B[43m \u001B[49m\u001B[38;5;28;43mself\u001B[39;49m\u001B[38;5;241;43m.\u001B[39;49m\u001B[43mgateway_client\u001B[49m\u001B[43m,\u001B[49m\u001B[43m \u001B[49m\u001B[38;5;28;43mself\u001B[39;49m\u001B[38;5;241;43m.\u001B[39;49m\u001B[43mtarget_id\u001B[49m\u001B[43m,\u001B[49m\u001B[43m \u001B[49m\u001B[38;5;28;43mself\u001B[39;49m\u001B[38;5;241;43m.\u001B[39;49m\u001B[43mname\u001B[49m\u001B[43m)\u001B[49m\n\u001B[1;32m   1325\u001B[0m \u001B[38;5;28;01mfor\u001B[39;00m temp_arg \u001B[38;5;129;01min\u001B[39;00m temp_args:\n\u001B[1;32m   1326\u001B[0m     \u001B[38;5;28;01mif\u001B[39;00m \u001B[38;5;28mhasattr\u001B[39m(temp_arg, \u001B[38;5;124m\"\u001B[39m\u001B[38;5;124m_detach\u001B[39m\u001B[38;5;124m\"\u001B[39m):\n",
      "File \u001B[0;32m/usr/local/spark/python/pyspark/errors/exceptions/captured.py:185\u001B[0m, in \u001B[0;36mcapture_sql_exception.<locals>.deco\u001B[0;34m(*a, **kw)\u001B[0m\n\u001B[1;32m    181\u001B[0m converted \u001B[38;5;241m=\u001B[39m convert_exception(e\u001B[38;5;241m.\u001B[39mjava_exception)\n\u001B[1;32m    182\u001B[0m \u001B[38;5;28;01mif\u001B[39;00m \u001B[38;5;129;01mnot\u001B[39;00m \u001B[38;5;28misinstance\u001B[39m(converted, UnknownException):\n\u001B[1;32m    183\u001B[0m     \u001B[38;5;66;03m# Hide where the exception came from that shows a non-Pythonic\u001B[39;00m\n\u001B[1;32m    184\u001B[0m     \u001B[38;5;66;03m# JVM exception message.\u001B[39;00m\n\u001B[0;32m--> 185\u001B[0m     \u001B[38;5;28;01mraise\u001B[39;00m converted \u001B[38;5;28;01mfrom\u001B[39;00m \u001B[38;5;28;01mNone\u001B[39;00m\n\u001B[1;32m    186\u001B[0m \u001B[38;5;28;01melse\u001B[39;00m:\n\u001B[1;32m    187\u001B[0m     \u001B[38;5;28;01mraise\u001B[39;00m\n",
      "\u001B[0;31mAnalysisException\u001B[0m: [PATH_NOT_FOUND] Path does not exist: s3a://raw/GSH_APAC_."
     ]
    }
   ],
   "source": [
    "df = datalake.read_csv_from_zip('raw', 'GSH_APAC_', delimiter='|')\n",
    "df.count()"
   ]
  },
  {
   "cell_type": "markdown",
   "id": "340b1d8c-59e3-4a85-8a72-f7aeeb41598f",
   "metadata": {},
   "source": [
    "## Lista os arquivos descompactados na pasta \"GSH_APAC\""
   ]
  },
  {
   "cell_type": "code",
   "execution_count": 9,
   "id": "71ae9f3f-e161-4aed-9a80-80b8049b169c",
   "metadata": {},
   "outputs": [
    {
     "name": "stdout",
     "output_type": "stream",
     "text": [
      "GSH_APAC/GSH_APAC_1.txt\n",
      "GSH_APAC/GSH_APAC_2.txt\n",
      "GSH_APAC/GSH_APAC_3.txt\n",
      "GSH_APAC/GSH_APAC_4.txt\n",
      "GSH_APAC/GSH_APAC_5.txt\n"
     ]
    }
   ],
   "source": [
    "raw_bucket = datalake.get_bucket('raw')\n",
    "for obj in raw_bucket.list_objects(prefix=\"GSH_APAC/\"):\n",
    "    print(obj.name)"
   ]
  },
  {
   "cell_type": "markdown",
   "id": "04ff14e3-64c9-40cf-a99b-9356f4f752f9",
   "metadata": {},
   "source": [
    "## Carrega o arquivo (objeto MinIO) GSH_APAC/GSH_APAC_1.txt em um datafame"
   ]
  },
  {
   "cell_type": "code",
   "execution_count": 7,
   "id": "7d08fd21-550d-41b6-99d4-cf31627444cd",
   "metadata": {},
   "outputs": [
    {
     "data": {
      "text/plain": [
       "956914"
      ]
     },
     "execution_count": 7,
     "metadata": {},
     "output_type": "execute_result"
    }
   ],
   "source": [
    "df = datalake.read_csv_to_dataframe('raw', 'GSH_APAC/GSH_APAC_1.txt', delimiter='|')\n",
    "df.count()"
   ]
  },
  {
   "cell_type": "code",
   "execution_count": 17,
   "id": "8a6f43df-7014-4c1d-a406-b9e253854828",
   "metadata": {},
   "outputs": [
    {
     "name": "stdout",
     "output_type": "stream",
     "text": [
      "+-------+--------------+--------------------------------------------+\n",
      "|APAC_ID|APCIDPRINC_CID|APCIDPRINC_DESCR_CID                        |\n",
      "+-------+--------------+--------------------------------------------+\n",
      "|4      |M810          |OSTEOPOROSE POS-MENOPAUSICA                 |\n",
      "|5      |L700          |ACNE VULGAR                                 |\n",
      "|6      |L700          |ACNE VULGAR                                 |\n",
      "|7      |N180          |DOENC RENAL EM ESTADIO FINAL                |\n",
      "|8      |E78           |DISTURBIOS METAB LIPOPROTEINAS E OUT LIPIDEM|\n",
      "|9      |G300          |DOENC DE ALZHEIMER DE INICIO PRECOCE        |\n",
      "|10     |F900          |DISTURBIOS DA ATIVIDADE E DA ATENCAO        |\n",
      "|11     |E228          |OUTR HIPERFUNCOES DA HIPOFISE               |\n",
      "|12     |L708          |OUTR FORM DE ACNE                           |\n",
      "|13     |F200          |ESQUIZOFRENIA PARANOIDE                     |\n",
      "|14     |L700          |ACNE VULGAR                                 |\n",
      "|15     |M068          |OUTR ARTRITES REUMATOIDES ESPEC             |\n",
      "|16     |P200          |HIPOXIA INTRA-UTER DIAGN ANT INIC TRAB PARTO|\n",
      "|17     |E41           |MARASMO NUTRICIONAL                         |\n",
      "|18     |C155          |TERCO INFER DO ESOFAGO                      |\n",
      "|19     |G300          |DOENC DE ALZHEIMER DE INICIO PRECOCE        |\n",
      "|20     |F200          |ESQUIZOFRENIA PARANOIDE                     |\n",
      "|21     |M060          |ARTRITE REUMATOIDE SORO-NEGATIVA            |\n",
      "|22     |G300          |DOENC DE ALZHEIMER DE INICIO PRECOCE        |\n",
      "|23     |B182          |HEPATITE VIRAL CRONICA C                    |\n",
      "+-------+--------------+--------------------------------------------+\n",
      "only showing top 20 rows\n",
      "\n"
     ]
    }
   ],
   "source": [
    "df.select('APAC_ID', 'APCIDPRINC_CID', 'APCIDPRINC_DESCR_CID').show(truncate=False)"
   ]
  },
  {
   "cell_type": "code",
   "execution_count": 2,
   "id": "5f666d06-9871-4fe1-827e-1917ae23acc3",
   "metadata": {},
   "outputs": [
    {
     "name": "stdout",
     "output_type": "stream",
     "text": [
      "root\n",
      " |-- ID_PESSOA: integer (nullable = true)\n",
      " |-- NOME: string (nullable = true)\n",
      " |-- APELIDO: string (nullable = true)\n",
      " |-- DATA_NASCIMENTO: date (nullable = true)\n",
      " |-- DATA_FALECIMENTO: timestamp (nullable = true)\n",
      " |-- OBITO: integer (nullable = true)\n",
      " |-- EMAIL: string (nullable = true)\n",
      " |-- CPF: long (nullable = true)\n",
      " |-- NOME_PAI: string (nullable = true)\n",
      " |-- NOME_MAE: string (nullable = true)\n",
      " |-- RG: string (nullable = true)\n",
      " |-- RG_DATA_EMISSAO: date (nullable = true)\n",
      " |-- CARTAO_SUS: long (nullable = true)\n",
      " |-- CTPS_NUMERO: integer (nullable = true)\n",
      " |-- CTPS_SERIE: integer (nullable = true)\n",
      " |-- CTPS_DATA_EMISSAO: date (nullable = true)\n",
      " |-- CERTIDAO_NUM_FOLHA: string (nullable = true)\n",
      " |-- CERTIDAO_NUM_LIVRO: string (nullable = true)\n",
      " |-- CERTIDAO_NUM_TERMO: string (nullable = true)\n",
      " |-- CERTIDAO_CARTORIO: string (nullable = true)\n",
      " |-- CERTIDAO_DATA_EMISSAO: date (nullable = true)\n",
      " |-- ENDERECO_NUMERO: integer (nullable = true)\n",
      " |-- ENDERECO_COMPLEMENTO: string (nullable = true)\n",
      " |-- ENDERECO_CEP: string (nullable = true)\n",
      " |-- ENDERECO_TIPO_LOGRADOURO: string (nullable = true)\n",
      " |-- ENDERECO_ENERGIA_ELETRICA: integer (nullable = true)\n",
      " |-- PIS_PASEP: long (nullable = true)\n",
      " |-- TITULO_ELEITOR_NUMERO: long (nullable = true)\n",
      " |-- TITULO_ELEITOR_SECAO: integer (nullable = true)\n",
      " |-- TITULO_ELEITOR_ZONA: integer (nullable = true)\n",
      " |-- COD_MUNICIPIO_IBGE: integer (nullable = true)\n",
      " |-- MUNICIPIO_ID: integer (nullable = true)\n",
      " |-- DESCRICAO_MUNICIPIO: string (nullable = true)\n",
      " |-- UF_MUNICIPIO: integer (nullable = true)\n",
      " |-- COD_SUS_MUNICIPIO: string (nullable = true)\n",
      " |-- COR_ID: integer (nullable = true)\n",
      " |-- COR_DESCR: string (nullable = true)\n",
      " |-- ETNIA_DESCR: string (nullable = true)\n",
      " |-- ETNIA_CODIGO: string (nullable = true)\n",
      " |-- ETNIA_COD_SUS: integer (nullable = true)\n",
      " |-- ATIVIDADE_ECONOMICA_ID: string (nullable = true)\n",
      " |-- ATIVIDADE_CNAE: string (nullable = true)\n",
      " |-- ATIVIDADE_ECONOMICA_DESCR: string (nullable = true)\n",
      " |-- PAIS_ID: integer (nullable = true)\n",
      " |-- DESCRICAO_PAIS: string (nullable = true)\n",
      " |-- TRATAMENTO_AGUA_ID: integer (nullable = true)\n",
      " |-- TRATAMENTO_AGUA_DESCR: string (nullable = true)\n",
      " |-- OCUPACAO_ID: integer (nullable = true)\n",
      " |-- OCUPACAO_DESCR: string (nullable = true)\n",
      " |-- OCUPACAO_COD_SUS: string (nullable = true)\n",
      " |-- OCUPACAO_CBO: string (nullable = true)\n",
      " |-- SEXO_ID: integer (nullable = true)\n",
      " |-- SEXO_DESCR: string (nullable = true)\n",
      " |-- DESTINO_LIXO_ID: integer (nullable = true)\n",
      " |-- DESTINO_LIXO_DESCR: string (nullable = true)\n",
      " |-- FLAG_INTEGRACAO: string (nullable = true)\n",
      " |-- TIPO_IDENTIDADE_ID: integer (nullable = true)\n",
      " |-- TIPO_IDENTIDADE_DESCR: string (nullable = true)\n",
      " |-- SANGUE_TIPO_ID: integer (nullable = true)\n",
      " |-- SANGUE_TIPO: string (nullable = true)\n",
      " |-- SANGUE_RH: string (nullable = true)\n",
      "\n"
     ]
    }
   ],
   "source": [
    "df = datalake.read_csv_from_zip('raw', 'GSH_PESSOAS.zip')\n",
    "df.printSchema()"
   ]
  },
  {
   "cell_type": "code",
   "execution_count": 11,
   "id": "bfd2b537-3fae-4547-b349-50ca9d674d37",
   "metadata": {},
   "outputs": [
    {
     "name": "stdout",
     "output_type": "stream",
     "text": [
      "root\n",
      " |-- APAC_ID: string (nullable = true)\n",
      " |-- APAC_ID_ANTERIOR: string (nullable = true)\n",
      " |-- APAC_PPI_MOVIMENTACAO: string (nullable = true)\n",
      " |-- APAC_USUARIO_AUTORIZADOR: string (nullable = true)\n",
      " |-- APAC_DATA_AUTORIZACAO: string (nullable = true)\n",
      " |-- APAC_DATA_FIM: string (nullable = true)\n",
      " |-- APAC_DATA_INICIO: date (nullable = true)\n",
      " |-- APAC_DATA_PREVISAO_AUTORIZACAO: integer (nullable = true)\n",
      " |-- APAC_DATA_REJEICAO: string (nullable = true)\n",
      " |-- APAC_DATA_SOLICITACAO: string (nullable = true)\n",
      " |-- APAC_DT_ENCERRAMENTO: string (nullable = true)\n",
      " |-- APAC_DT_FINALIZACAO_APAC: string (nullable = true)\n",
      " |-- APAC_DT_SENHA_TRIAGEM: string (nullable = true)\n",
      " |-- APAC_DV_APAC: string (nullable = true)\n",
      " |-- APAC_EXAMES_CLINICOS: string (nullable = true)\n",
      " |-- APAC_FLAG_ESTADO: integer (nullable = true)\n",
      " |-- APAC_FLAG_NUMERACAO: string (nullable = true)\n",
      " |-- APAC_FLAG_RECEITA_SUS: string (nullable = true)\n",
      " |-- APAC_ID_APAC_CANCELA_MOTIVO: string (nullable = true)\n",
      " |-- APAC_ID_APAC_MOTIVO_COBRANCA: string (nullable = true)\n",
      " |-- APAC_LAUDO: string (nullable = true)\n",
      " |-- APAC_MOTIVO_TEXTO: string (nullable = true)\n",
      " |-- APAC_MOTIVO_CANCELAMENTO_TEXTO: string (nullable = true)\n",
      " |-- APAC_MOTIVO_FINALIZACAO_TEXTO: string (nullable = true)\n",
      " |-- APAC_NOME_ADVOGADO: integer (nullable = true)\n",
      " |-- APAC_NOME_JUIZ: integer (nullable = true)\n",
      " |-- APAC_NUMERO_VERSAO: string (nullable = true)\n",
      " |-- APAC_NUMERO_APAC: long (nullable = true)\n",
      " |-- APAC_NUMERO_LIMINAR: string (nullable = true)\n",
      " |-- APAC_OBSERVACAO_LIMINAR: integer (nullable = true)\n",
      " |-- APAC_QTD_PROC_PRINCIPAL: string (nullable = true)\n",
      " |-- APAC_QTD_1MES: integer (nullable = true)\n",
      " |-- APAC_QTD_2MES: integer (nullable = true)\n",
      " |-- APAC_QTD_3MES: integer (nullable = true)\n",
      " |-- APAC_REGISTRO_ADV: string (nullable = true)\n",
      " |-- APAC_RENOVADO: string (nullable = true)\n",
      " |-- APAC_SENHA_TRIAGEM: string (nullable = true)\n",
      " |-- APAC_UPS_SOLICITANTE: integer (nullable = true)\n",
      " |-- APAC_USUARIO: integer (nullable = true)\n",
      " |-- APAC_STATUS_ID: integer (nullable = true)\n",
      " |-- APAC_STATUS_DESCR: string (nullable = true)\n",
      " |-- APAC_MOTIVO_REJEICAO_DESCR: string (nullable = true)\n",
      " |-- APAC_MOTIVO_REJEICAO_ID: string (nullable = true)\n",
      " |-- APAC_TIPO_ID: string (nullable = true)\n",
      " |-- APAC_TIPO_DESCR: string (nullable = true)\n",
      " |-- CIDASSOC_ID_CID: string (nullable = true)\n",
      " |-- CIDASSOC_CID: string (nullable = true)\n",
      " |-- CIDASSOC_CID_APAC: string (nullable = true)\n",
      " |-- CIDASSOC_SEXO_ID: string (nullable = true)\n",
      " |-- CIDASSOC_SEXO_DESCR: string (nullable = true)\n",
      " |-- CIDASSOC_IDADE_MINIMA: string (nullable = true)\n",
      " |-- CIDASSOC_IDADE_MAXIMA: string (nullable = true)\n",
      " |-- CIDASSOC_DESCR_CID: string (nullable = true)\n",
      " |-- CIDASSOC_CAT_HAB_ID: string (nullable = true)\n",
      " |-- CIDASSOC_CAT_HAB_DESCR: string (nullable = true)\n",
      " |-- CIDASSOC_SUBCAT_HAB_ID: string (nullable = true)\n",
      " |-- CIDASSOC_SUBCAT_HAB_DESCR: string (nullable = true)\n",
      " |-- CIDASSOC_ESTAD_HAB_ID: string (nullable = true)\n",
      " |-- CIDASSOC_ESTAD_HAB_DESCR: string (nullable = true)\n",
      " |-- CIDASSOC_RRADIO_HAB_ID: integer (nullable = true)\n",
      " |-- CIDASSOC_RRADIO_HAB_DESCR: string (nullable = true)\n",
      " |-- CIDASSOC_MAXC_IRRADIAVEIS: integer (nullable = true)\n",
      " |-- APCIDPRINC_ID_CID: string (nullable = true)\n",
      " |-- APCIDPRINC_CID: string (nullable = true)\n",
      " |-- APCIDPRINC_CID_APAC: string (nullable = true)\n",
      " |-- APCIDPRINC_SEXO_ID: integer (nullable = true)\n",
      " |-- APCIDPRINC_SEXO_DESCR: string (nullable = true)\n",
      " |-- APCIDPRINC_IDADE_MINIMA: string (nullable = true)\n",
      " |-- APCIDPRINC_IDADE_MAXIMA: integer (nullable = true)\n",
      " |-- APCIDPRINC_DESCR_CID: string (nullable = true)\n",
      " |-- APCIDPRINC_MAXC_IRRADIAVEIS: integer (nullable = true)\n",
      " |-- APCIDPRINC_CAT_HAB_ID: integer (nullable = true)\n",
      " |-- APCIDPRINC_CAT_HAB_DESCR: string (nullable = true)\n",
      " |-- APCIDPRINC_SUBCAT_HAB_ID: integer (nullable = true)\n",
      " |-- APCIDPRINC_SUBCAT_HAB_DESCR: string (nullable = true)\n",
      " |-- APCIDPRINC_ESTAD_HAB_ID: string (nullable = true)\n",
      " |-- APCIDPRINC_ESTAD_HAB_DESCR: string (nullable = true)\n",
      " |-- APCIDPRINC_RRADIO_HAB_ID: string (nullable = true)\n",
      " |-- APCIDPRINC_RRADIO_HAB_DESCR: string (nullable = true)\n",
      " |-- APCIDSEC_ID_CID: string (nullable = true)\n",
      " |-- APCIDSEC_CID: string (nullable = true)\n",
      " |-- APCIDSEC_CID_APAC: string (nullable = true)\n",
      " |-- APCIDSEC_SEXO_ID: integer (nullable = true)\n",
      " |-- APCIDSEC_SEXO_DESCR: string (nullable = true)\n",
      " |-- APCIDSEC_IDADE_MINIMA: integer (nullable = true)\n",
      " |-- APCIDSEC_IDADE_MAXIMA: integer (nullable = true)\n",
      " |-- APCIDSEC_DESCR_CID: string (nullable = true)\n",
      " |-- APCIDSEC_MAXC_IRRADIAVEIS: integer (nullable = true)\n",
      " |-- APCIDSEC_CAT_HAB_ID: integer (nullable = true)\n",
      " |-- APCIDSEC_CAT_HAB_DESCR: string (nullable = true)\n",
      " |-- APCIDSEC_SUBCAT_HAB_ID: integer (nullable = true)\n",
      " |-- APCIDSEC_SUBCAT_HAB_DESCR: string (nullable = true)\n",
      " |-- APCIDSEC_ESTAD_HAB_ID: integer (nullable = true)\n",
      " |-- APCIDSEC_ESTAD_HAB_DESCR: string (nullable = true)\n",
      " |-- APCIDSEC_RRADIO_HAB_ID: integer (nullable = true)\n",
      " |-- APCIDSEC_RRADIO_HAB_DESCR: string (nullable = true)\n",
      " |-- APUSPEXEC_ID: integer (nullable = true)\n",
      " |-- APUSPSOLIC_ID: integer (nullable = true)\n",
      " |-- APMEDCSOLICITANTE_ID: integer (nullable = true)\n",
      " |-- APMEDCSOLICITANTE_COD_IBGE: string (nullable = true)\n",
      " |-- APMEDCSOLICITANTE_DESCR_MUNIC: string (nullable = true)\n",
      " |-- APMEDCSOLICITANTE_ID_UF: string (nullable = true)\n",
      " |-- APMEDCSOLICITANTE_COD_SUS: string (nullable = true)\n",
      " |-- APPROCAMB_PREPARO: string (nullable = true)\n",
      " |-- APPROCAMB_DATA_HABILITACAO: integer (nullable = true)\n",
      " |-- APPROCAMB_HABILITADO: integer (nullable = true)\n",
      " |-- APPROCAMB_DESCR: integer (nullable = true)\n",
      " |-- APPROCAMB_ID: integer (nullable = true)\n",
      " |-- APPROCAMB_DATA_DESABILITACAO: date (nullable = true)\n",
      " |-- APMEDICOAUT_AUT_PROF_ID: long (nullable = true)\n",
      " |-- APMEDICOAUT_AUT_ID_PESSOA: string (nullable = true)\n",
      " |-- APMEDICOAUT_AUT_CONTA_CORRENTE: integer (nullable = true)\n",
      " |-- APMEDICREJEICAO_PROF_ID: long (nullable = true)\n",
      " |-- APMEDICREJEICAO_ID_PESSOA: integer (nullable = true)\n",
      " |-- PMEDICREJEICAO_CONTA_CORRENTE: string (nullable = true)\n",
      " |-- APMEDICOSOLIC_PROF_ID: long (nullable = true)\n",
      " |-- APMEDICOSOLIC_ID_PESSOA: integer (nullable = true)\n",
      " |-- APMEDICOSOLIC_CONTA_CORRENTE: string (nullable = true)\n",
      " |-- APPRONTURARIO_ID: integer (nullable = true)\n",
      " |-- APPRONTURARIO_NUMERO: integer (nullable = true)\n",
      " |-- APPRONTURARIO_NUMERO_ANTIGO: string (nullable = true)\n",
      " |-- APPRONTURARIO_ID_HOSPITAL: integer (nullable = true)\n",
      " |-- APPRONTURARIO_DATA_ABERTURA: date (nullable = true)\n",
      " |-- APPRONTURARIO_PID_INTEGRACAO: string (nullable = true)\n",
      " |-- APPRONTURARIO_DATA_CRIACAO: date (nullable = true)\n",
      " |-- APPRONTURARIO_ID_PESSOA: integer (nullable = true)\n",
      " |-- APPRONTURARIO_PROVISORIO: integer (nullable = true)\n",
      "\n"
     ]
    }
   ],
   "source": [
    "df.printSchema()"
   ]
  }
 ],
 "metadata": {
  "kernelspec": {
   "display_name": "Python 3 (ipykernel)",
   "language": "python",
   "name": "python3"
  },
  "language_info": {
   "codemirror_mode": {
    "name": "ipython",
    "version": 3
   },
   "file_extension": ".py",
   "mimetype": "text/x-python",
   "name": "python",
   "nbconvert_exporter": "python",
   "pygments_lexer": "ipython3",
   "version": "3.11.6"
  }
 },
 "nbformat": 4,
 "nbformat_minor": 5
}
